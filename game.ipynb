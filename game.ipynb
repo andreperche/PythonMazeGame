{
 "cells": [
  {
   "cell_type": "markdown",
   "metadata": {},
   "source": [
    "PERSONAGENS"
   ]
  },
  {
   "cell_type": "code",
   "execution_count": 23,
   "metadata": {},
   "outputs": [],
   "source": [
    "class Character(object):\n",
    "    \"\"\"Character Variables\"\"\"\n",
    "    attributes = {'Mind':100, 'Ethics':100, 'Education':100, 'Social':100}\n",
    "    language = 'pt'\n",
    "    \n",
    "    \"\"\"Init Character\"\"\"\n",
    "    def __init__(self,name,age,description):\n",
    "        self.name = name\n",
    "        self.age = age\n",
    "        self.description = description\n",
    "        \"\"\"Define Linguagem padrão se != de Português\"\"\"\n",
    "        if self.language != 'pt':\n",
    "            self.language = 'en'\n",
    "    \n",
    "    def __repr__(self):\n",
    "        if self.language == 'pt':\n",
    "            return \"%s Status -> Mente:%d | Ética:%d | Educação:%d | Social:%d\" % (self.name, self.attributes['Mind'], self.attributes['Ethics'], self.attributes['Education'], self.attributes['Social'])\n",
    "        else:\n",
    "            return \"%s Status -> Mind:%d | Ethics:%d | Education:%d | Social:%d\" % (self.name, self.attributes['Mind'], self.attributes['Ethics'], self.attributes['Education'], self.attributes['Social'])\n",
    "        \n",
    "        \n",
    "    \n",
    "    "
   ]
  },
  {
   "cell_type": "code",
   "execution_count": 24,
   "metadata": {},
   "outputs": [
    {
     "name": "stdout",
     "output_type": "stream",
     "text": [
      "Tiffany Status -> Mente:100 | Ética:100 | Educação:100 | Social:100\n"
     ]
    }
   ],
   "source": [
    "tiffany = Character('Tiffany',14,'test')\n",
    "\n",
    "print(tiffany)\n",
    "\n"
   ]
  },
  {
   "cell_type": "code",
   "execution_count": null,
   "metadata": {},
   "outputs": [],
   "source": []
  },
  {
   "cell_type": "code",
   "execution_count": null,
   "metadata": {},
   "outputs": [],
   "source": []
  }
 ],
 "metadata": {
  "kernelspec": {
   "display_name": "Python 3",
   "language": "python",
   "name": "python3"
  },
  "language_info": {
   "codemirror_mode": {
    "name": "ipython",
    "version": 3
   },
   "file_extension": ".py",
   "mimetype": "text/x-python",
   "name": "python",
   "nbconvert_exporter": "python",
   "pygments_lexer": "ipython3",
   "version": "3.6.5"
  }
 },
 "nbformat": 4,
 "nbformat_minor": 2
}
