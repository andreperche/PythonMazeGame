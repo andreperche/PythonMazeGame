{
 "cells": [
  {
   "cell_type": "markdown",
   "metadata": {},
   "source": [
    "PERSONAGENS"
   ]
  },
  {
   "cell_type": "code",
   "execution_count": 81,
   "metadata": {},
   "outputs": [],
   "source": [
    "class Character(object):\n",
    "    \"\"\"Character Variables\"\"\"\n",
    "    attributes = {'Mind':100, 'Health':100, 'Dignity':100, 'Satiety':100}\n",
    "    language = 'pt'\n",
    "    \n",
    "    \"\"\"Init Character\"\"\"\n",
    "    def __init__(self,name,age,description):\n",
    "        self.name = name\n",
    "        self.age = age\n",
    "        self.description = description\n",
    "        \"\"\"Define Linguagem padrão se != de Português\"\"\"\n",
    "        if self.language != 'pt':\n",
    "            self.language = 'en'\n",
    "    \n",
    "    def __repr__(self):\n",
    "        if self.language == 'pt':\n",
    "            return \"%s Status -> Mente:%d | Saúde:%d | Dignidade:%d | Saciedade:%d\" % (self.name, self.attributes['Mind'], self.attributes['Health'], self.attributes['Dignity'], self.attributes['Satiety'])\n",
    "        else:\n",
    "            return \"%s Status -> Mind:%d | Health:%d | Dignity:%d | Satiety:%d\" % (self.name, self.attributes['Mind'], self.attributes['Health'], self.attributes['Dignity'], self.attributes['Satiety'])\n",
    "        \n",
    "    def status_effect(self,status):\n",
    "        for k in status:\n",
    "            self.attributes[k] += status[k]\n",
    "            if self.attributes[k] > 100:\n",
    "                self.attributes[k] = 100\n",
    "            elif self.attributes[k] <= 0:\n",
    "                print(\"You loose all your \"+k+\" and died in misery!\")\n",
    "                return k          \n",
    "        return False   \n",
    "    \n",
    "    "
   ]
  },
  {
   "cell_type": "code",
   "execution_count": 83,
   "metadata": {},
   "outputs": [
    {
     "name": "stdout",
     "output_type": "stream",
     "text": [
      "Tiffany Status -> Mente:100 | Saúde:50 | Dignidade:100 | Humanidade:100\n",
      "You loose all your Health and died in misery!\n",
      "Health\n",
      "Tiffany Status -> Mente:100 | Saúde:0 | Dignidade:100 | Humanidade:100\n"
     ]
    }
   ],
   "source": [
    "tiffany = Character('Tiffany',14,'test')\n",
    "\n",
    "print(tiffany)\n",
    "\n",
    "print(tiffany.status_effect({'Mind':5, 'Health':-50, 'Dignity':0, 'Satiety':10}))\n",
    "\n",
    "print(tiffany)\n",
    "\n"
   ]
  },
  {
   "cell_type": "markdown",
   "metadata": {},
   "source": [
    "Sempre duas opções uma correta outra errada aleatóriamente. Ao escolher um contador é incrementado ou decrementado. Finaliza ao zerar os status ou o contador chegar a 0. Resposta errada +1 resposta certa -1"
   ]
  },
  {
   "cell_type": "code",
   "execution_count": null,
   "metadata": {},
   "outputs": [],
   "source": []
  }
 ],
 "metadata": {
  "kernelspec": {
   "display_name": "Python 3",
   "language": "python",
   "name": "python3"
  },
  "language_info": {
   "codemirror_mode": {
    "name": "ipython",
    "version": 3
   },
   "file_extension": ".py",
   "mimetype": "text/x-python",
   "name": "python",
   "nbconvert_exporter": "python",
   "pygments_lexer": "ipython3",
   "version": "3.6.5"
  }
 },
 "nbformat": 4,
 "nbformat_minor": 2
}
