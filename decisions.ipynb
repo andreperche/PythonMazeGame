{
 "cells": [
  {
   "cell_type": "markdown",
   "metadata": {},
   "source": [
    "<h1>---- DECISIONS v0.1 ----</h1>\n",
    "\n",
    "created by: <a href=\"https://github.com/andreperche/\">andreperche</a>\n",
    "version: 0.1\n",
    "contact: andre.a.perche@gmail.com\n",
    "\n",
    "-- Notes --\n",
    "\n",
    "<p>It consists of a game based on decisions. Where two options are given to you and all your choices have consequences. <br/>\n",
    "So to reach the end by yourself.</p>\n",
    "\n",
    "<p> If you find any bug or improvement tell me or contribute. </p>\n",
    " \n",
    "<p> <i>\"It's first project developed by me using Python. <br/>\n",
    "Please, be kind in your judgment\"</i> =P </p>\n",
    "\n",
    " <br/> Thank you for your time!\n",
    " <br/> Rgds,\n",
    "\n"
   ]
  },
  {
   "cell_type": "markdown",
   "metadata": {},
   "source": [
    "<h3>LIBS IMPORT</h3>"
   ]
  },
  {
   "cell_type": "code",
   "execution_count": 4,
   "metadata": {},
   "outputs": [],
   "source": [
    "import datetime"
   ]
  },
  {
   "cell_type": "markdown",
   "metadata": {},
   "source": [
    "<h3>CHARACTERS DEFINITIONS </h3>"
   ]
  },
  {
   "cell_type": "code",
   "execution_count": 69,
   "metadata": {},
   "outputs": [],
   "source": [
    "class Character(object):\n",
    "    \"\"\"Character Variables\"\"\"\n",
    "    attributes = {'Mind':100, 'Health':100, 'Dignity':100, 'Satiety':100}\n",
    "    language = 'pt'\n",
    "    locale = {'pt':{'Mind':'Mente','Health':'Saúde','Dignity':'Dignidade','Satiety':'Saciedade'}}\n",
    "    \n",
    "    \"\"\"Init Character\"\"\"\n",
    "    def __init__(self,name,age,description):\n",
    "        self.name = name\n",
    "        self.age = age\n",
    "        self.description = description\n",
    "        \"\"\"Define Linguagem padrão se != de Português\"\"\"\n",
    "        if self.language != 'pt':\n",
    "            self.language = 'en'\n",
    "    \n",
    "    def __repr__(self):\n",
    "        if self.language == 'pt':\n",
    "            return \"%s: Status -> Mente:%d | Saúde:%d | Dignidade:%d | Saciedade:%d\" % (self.name, self.attributes['Mind'], self.attributes['Health'], self.attributes['Dignity'], self.attributes['Satiety'])\n",
    "        else:\n",
    "            return \"%s's Status -> Mind:%d | Health:%d | Dignity:%d | Satiety:%d\" % (self.name, self.attributes['Mind'], self.attributes['Health'], self.attributes['Dignity'], self.attributes['Satiety'])\n",
    "        \n",
    "    def status_effect(self,status):\n",
    "        for k in status:\n",
    "            self.attributes[k] += status[k]\n",
    "            if self.attributes[k] > 100:\n",
    "                self.attributes[k] = 100\n",
    "            elif self.attributes[k] <= 0:\n",
    "                if self.language != 'en':\n",
    "                    print(\"Você perteu toda sua \"+self.locale[self.language][k]+\" e morreu miseravelmente!\")\n",
    "                else:\n",
    "                    print(\"You loose all your \"+k+\" and died in misery!\")\n",
    "                return False          \n",
    "        return True\n",
    "    \n",
    "    "
   ]
  },
  {
   "cell_type": "code",
   "execution_count": 71,
   "metadata": {},
   "outputs": [],
   "source": [
    "###CHARACTER TESTING###\n",
    "#tiffany = Character('Tiffany',14,'test')\n",
    "#print(tiffany)\n",
    "#print(tiffany.status_effect({'Mind':5, 'Health':-50, 'Dignity':0, 'Satiety':10}))\n",
    "#print(tiffany)\n",
    "\n"
   ]
  },
  {
   "cell_type": "markdown",
   "metadata": {},
   "source": [
    "<h3>MECHANICS</h3>"
   ]
  },
  {
   "cell_type": "markdown",
   "metadata": {},
   "source": [
    "<i>Sempre são dadas duas opções uma correta outra errada aleatóriamente. Ao selecionar uma o contador é incrementado ou decrementado. Finaliza ao zerar um dos status ou o contador chegar a 0. Resposta errada +1 resposta certa -1. O contador é incrementado ou decrementado conforme decisão tomada.</i>"
   ]
  },
  {
   "cell_type": "code",
   "execution_count": 73,
   "metadata": {},
   "outputs": [],
   "source": [
    "class Mechanics(object):\n",
    "    \"\"\"Mechanics Variables\"\"\"\n",
    "    tries = 10\n",
    "    options_path = \"\\options\"\n",
    "    log_path = \"\\logs\"\n",
    "    log_file = ''\n",
    "    language = \"pt\"\n",
    "    character = object\n",
    "    timestamp = datetime.datetime.now()\n",
    "    opt_y = ['sim','s','sei','y','yes','yep']\n",
    "    opt_n = ['não','n','nao','no','nope']\n",
    "    \n",
    "    \"\"\"Init Mechanics\"\"\"\n",
    "    def __init__(self):\n",
    "        #self.log_file = open(\"log_\"+str(timestamp.year)+str(timestamp.month).zfill(2)+str(timestamp.day).zfill(2)+str(timestamp.hour)+str(timestamp.minute)+\".txt\",\"w+\")\n",
    "        self.start()\n",
    "        \n",
    "    def check_yesno(self,yn,answer):\n",
    "        if yn == 'y':\n",
    "            check = [s for s in self.opt_y if answer in s]\n",
    "            if len(check) == 0:\n",
    "                return False\n",
    "            else:\n",
    "                return True\n",
    "        elif yn == 'n':\n",
    "            check = [s for s in self.opt_n if answer in s]\n",
    "            if len(check) == 0:\n",
    "                return False\n",
    "            else:\n",
    "                return True\n",
    "        else:\n",
    "            return False\n",
    "            \n",
    "    def start(self):\n",
    "        name = input(\"Olá crianço... Qual o teu nome? \")\n",
    "        print('Hum... Olá '+name)\n",
    "        self.character = Character(name,30,'...')\n",
    "        ans1 = input(\"Não parece estar me reconhecendo. Sabe quem sou eu? [s] - [n] \")\n",
    "        if self.check_yesno('y',ans1):\n",
    "            print('Pff... Ótimo. Assim não precisamos perder tempo com apresentações.')\n",
    "        elif self.check_yesno('n',ans1):\n",
    "            print('Não importa... Sou apenas uma voz dentro da sua cabeça...')\n",
    "        else:\n",
    "            print('Hum... Sempre te achei meio idiota... Basta responder [s] ou [n]... Não serei tão tolerante na próxima')\n",
    "        \n",
    "        print('Você me parece um pouco confuso. Deve estar se perguntando o que faz você em meio a esta escuridão.')\n",
    "        print('Enfim, '+self.character.name+' descubra por sí só... Por que não se levanta e caminha um pouco adiante. Parado aí não chegará a lugar algum.')\n",
    "        \n",
    "        check = False\n",
    "        \n",
    "        while check != True:\n",
    "            ans2 = input(\"<Levantar-se?> [s] - [n] \")\n",
    "            check = self.check_yesno('y',ans1)\n",
    "            if check:\n",
    "                print('Você se levanta um pouco atordoado. Apesar de não enxergar nada muito além de suas mãos, você caminha lentamente adiante.')\n",
    "                print('Você se sente normal')\n",
    "                print(self.character)\n",
    "                break\n",
    "            else:\n",
    "                print('Você permanece deitado no chão duro e frio. Imediatamente você sente uma dor insuportavel dentro de sua cabeça. Você se contorce de dor por algúns instantes e em seguida ela cessa.')\n",
    "                self.character.status_effect({'Mind':-5, 'Health':0, 'Dignity':0, 'Satiety':0})\n",
    "                print(self.character)\n",
    "            "
   ]
  },
  {
   "cell_type": "code",
   "execution_count": null,
   "metadata": {},
   "outputs": [],
   "source": [
    "play = Mechanics()"
   ]
  },
  {
   "cell_type": "code",
   "execution_count": null,
   "metadata": {},
   "outputs": [],
   "source": []
  }
 ],
 "metadata": {
  "kernelspec": {
   "display_name": "Python 3",
   "language": "python",
   "name": "python3"
  }
 },
 "nbformat": 4,
 "nbformat_minor": 2
}
