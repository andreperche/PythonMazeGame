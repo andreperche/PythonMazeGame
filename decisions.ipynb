{
 "cells": [
  {
   "cell_type": "markdown",
   "metadata": {},
   "source": [
    "IMPORTS"
   ]
  },
  {
   "cell_type": "code",
   "execution_count": 4,
   "metadata": {},
   "outputs": [],
   "source": [
    "import datetime"
   ]
  },
  {
   "cell_type": "markdown",
   "metadata": {},
   "source": [
    "PERSONAGENS"
   ]
  },
  {
   "cell_type": "code",
   "execution_count": 1,
   "metadata": {},
   "outputs": [],
   "source": [
    "class Character(object):\n",
    "    \"\"\"Character Variables\"\"\"\n",
    "    attributes = {'Mind':100, 'Health':100, 'Dignity':100, 'Satiety':100}\n",
    "    language = 'pt'\n",
    "    locale = {'pt':{'Mind':'Mente','Health':'Saúde','Dignity':'Dignidade','Satiety':'Saciedade'}}\n",
    "    \n",
    "    \"\"\"Init Character\"\"\"\n",
    "    def __init__(self,name,age,description):\n",
    "        self.name = name\n",
    "        self.age = age\n",
    "        self.description = description\n",
    "        \"\"\"Define Linguagem padrão se != de Português\"\"\"\n",
    "        if self.language != 'pt':\n",
    "            self.language = 'en'\n",
    "    \n",
    "    def __repr__(self):\n",
    "        if self.language == 'pt':\n",
    "            return \"%s: Status -> Mente:%d | Saúde:%d | Dignidade:%d | Saciedade:%d\" % (self.name, self.attributes['Mind'], self.attributes['Health'], self.attributes['Dignity'], self.attributes['Satiety'])\n",
    "        else:\n",
    "            return \"%s's Status -> Mind:%d | Health:%d | Dignity:%d | Satiety:%d\" % (self.name, self.attributes['Mind'], self.attributes['Health'], self.attributes['Dignity'], self.attributes['Satiety'])\n",
    "        \n",
    "    def status_effect(self,status):\n",
    "        for k in status:\n",
    "            self.attributes[k] += status[k]\n",
    "            if self.attributes[k] > 100:\n",
    "                self.attributes[k] = 100\n",
    "            elif self.attributes[k] <= 0:\n",
    "                if self.language != 'en':\n",
    "                    print(\"Você perteu toda sua \"+self.locale[self.language][k]+\" and died in misery!\")\n",
    "                else:\n",
    "                    print(\"You loose all your \"+k+\" and died in misery!\")\n",
    "                return False          \n",
    "        return True\n",
    "    \n",
    "    "
   ]
  },
  {
   "cell_type": "code",
   "execution_count": 2,
   "metadata": {},
   "outputs": [],
   "source": [
    "#Teste status\n",
    "#tiffany = Character('Tiffany',14,'test')\n",
    "#print(tiffany)\n",
    "#print(tiffany.status_effect({'Mind':5, 'Health':-50, 'Dignity':0, 'Satiety':10}))\n",
    "#print(tiffany)\n",
    "\n"
   ]
  },
  {
   "cell_type": "markdown",
   "metadata": {},
   "source": [
    "Sempre são dadas duas opções uma correta outra errada aleatóriamente. Ao selecionar uma o contador é incrementado ou decrementado. Finaliza ao zerar um dos status ou o contador chegar a 0. Resposta errada +1 resposta certa -1. O contador é incrementado ou decrementado conforme decisão tomada."
   ]
  },
  {
   "cell_type": "code",
   "execution_count": null,
   "metadata": {},
   "outputs": [],
   "source": [
    "class Mechanics(object):\n",
    "    \"\"\"Mechanics Variables\"\"\"\n",
    "    tries = 10\n",
    "    options_path = \"\\options\"\n",
    "    log_path = \"\\logs\"\n",
    "    log_file = ''\n",
    "    language = \"pt\"\n",
    "    character = object\n",
    "    timestamp = datetime.datetime.now()\n",
    "    opt_y = ['sim','s','sei','y','yes','yep']\n",
    "    opt_n = ['não','n','nao','no','nope']\n",
    "    \n",
    "    \"\"\"Init Mechanics\"\"\"\n",
    "    def __init__(self):\n",
    "        #self.log_file = open(\"log_\"+str(timestamp.year)+str(timestamp.month).zfill(2)+str(timestamp.day).zfill(2)+str(timestamp.hour)+str(timestamp.minute)+\".txt\",\"w+\")\n",
    "        self.start()\n",
    "        \n",
    "    def check_yesno(self,yn,answer):\n",
    "        if yn == 'y':\n",
    "            check = [s for s in self.opt_y if answer in s]\n",
    "            if len(check) == 0:\n",
    "                return False\n",
    "            else:\n",
    "                return True\n",
    "        elif yn == 'n':\n",
    "            check = [s for s in self.opt_n if answer in s]\n",
    "            if len(check) == 0:\n",
    "                return False\n",
    "            else:\n",
    "                return True\n",
    "        else:\n",
    "            return False\n",
    "            \n",
    "    def start(self):\n",
    "        name = input(\"Olá crianço... Qual o teu nome? \")\n",
    "        print('Hum... Olá '+name)\n",
    "        self.character = Character(name,30,'...')\n",
    "        ans1 = input(\"Não parece estar me reconhecendo. Sabe quem sou eu? [s] - [n] \")\n",
    "        if self.check_yesno('y',ans1):\n",
    "            print('Pff... Ótimo. Assim não precisamos perder tempo com apresentações.')\n",
    "        elif self.check_yesno('n',ans1):\n",
    "            print('Não importa... Sou apenas uma voz dentro da sua cabeça...')\n",
    "        else:\n",
    "            print('Hum... Sempre te achei meio idiota... Basta responder [s] ou [n]... Não serei tão tolerante na próxima')\n",
    "        \n",
    "        print('Você me parece um pouco confuso. Deve estar se perguntando o que faz você em meio a esta escuridão.')\n",
    "        print('Enfim, '+self.character.name+' descubra por sí só... Por que não se levanta e caminha um pouco adiante. Parado aí não chegará a lugar algum.')\n",
    "        \n",
    "        ans1 = input(\"Não parece estar me reconhecendo. Sabe quem sou eu? [s] - [n] \")\n",
    "      "
   ]
  },
  {
   "cell_type": "code",
   "execution_count": null,
   "metadata": {},
   "outputs": [
    {
     "name": "stdout",
     "output_type": "stream",
     "text": [
      "Olá crianço... Qual o teu nome? Davidson\n",
      "Hum... Olá Davidson\n",
      "Não parece estar me reconhecendo. Sabe quem sou eu? [s] - [n] s\n",
      "Pff... Ótimo. Assim não precisamos perder tempo com apresentações.\n",
      "Você me parece um pouco confuso. Deve estar se perguntando o que vossa senhoria está fazendo em meio a esta escuridão.\n",
      "Enfim... Por que não se levanta e caminha um pouco adiante. Parado aí não chegará a lugar algum.\n"
     ]
    }
   ],
   "source": [
    "play = Mechanics()"
   ]
  },
  {
   "cell_type": "code",
   "execution_count": null,
   "metadata": {},
   "outputs": [],
   "source": []
  },
  {
   "cell_type": "code",
   "execution_count": 7,
   "metadata": {},
   "outputs": [],
   "source": [
    "options = ['sim','s','sei']"
   ]
  },
  {
   "cell_type": "code",
   "execution_count": 20,
   "metadata": {},
   "outputs": [
    {
     "ename": "SyntaxError",
     "evalue": "invalid syntax (<ipython-input-20-28a242537c5e>, line 1)",
     "output_type": "error",
     "traceback": [
      "\u001b[1;36m  File \u001b[1;32m\"<ipython-input-20-28a242537c5e>\"\u001b[1;36m, line \u001b[1;32m1\u001b[0m\n\u001b[1;33m    matching =\u001b[0m\n\u001b[1;37m               ^\u001b[0m\n\u001b[1;31mSyntaxError\u001b[0m\u001b[1;31m:\u001b[0m invalid syntax\n"
     ]
    }
   ],
   "source": [
    "\n",
    "print(len(matching))"
   ]
  },
  {
   "cell_type": "code",
   "execution_count": 58,
   "metadata": {},
   "outputs": [
    {
     "name": "stdout",
     "output_type": "stream",
     "text": [
      "201809131557\n"
     ]
    }
   ],
   "source": [
    "timestamp = datetime.datetime.now()\n"
   ]
  },
  {
   "cell_type": "code",
   "execution_count": 43,
   "metadata": {},
   "outputs": [
    {
     "name": "stdout",
     "output_type": "stream",
     "text": [
      "2018-09-13\n"
     ]
    }
   ],
   "source": []
  },
  {
   "cell_type": "code",
   "execution_count": null,
   "metadata": {},
   "outputs": [],
   "source": []
  }
 ],
 "metadata": {
  "kernelspec": {
   "display_name": "Python 3",
   "language": "python",
   "name": "python3"
  }
 },
 "nbformat": 4,
 "nbformat_minor": 2
}
